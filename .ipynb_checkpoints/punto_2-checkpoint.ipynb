{
 "metadata": {
  "name": ""
 },
 "nbformat": 3,
 "nbformat_minor": 0,
 "worksheets": [
  {
   "cells": [
    {
     "cell_type": "code",
     "collapsed": false,
     "input": [
      "%pylab inline\n",
      "import matplotlib.pyplot as plt\n",
      "import numpy as np\n",
      "from numpy import pi"
     ],
     "language": "python",
     "metadata": {},
     "outputs": [
      {
       "output_type": "stream",
       "stream": "stdout",
       "text": [
        "Populating the interactive namespace from numpy and matplotlib\n"
       ]
      }
     ],
     "prompt_number": 1
    },
    {
     "cell_type": "code",
     "collapsed": false,
     "input": [
      "#se define el intervalo de integraci\u00f3n y los puntos\n",
      "h=0.01\n",
      "min_t = 0.0\n",
      "max_t = 100.0\n",
      "n_points = int((max_t-min_t)/h)\n",
      "\n",
      "#se define las constantes\n",
      "q_e=-1.6*10**-19 #[c]\n",
      "B=0     #[T]\n",
      "m_e=9.1*10**-31 #[Kg]\n",
      "\n",
      "w_0=-q_e*B/m_e #[1/s]\n",
      "\n",
      "\n",
      "#inicializando las matrices\n",
      "\n",
      "\n",
      "t = zeros(n_points)\n",
      "x_1 = zeros(n_points)\n",
      "x_2 = zeros(n_points)\n",
      "y_1 = zeros(n_points)\n",
      "y_2 = zeros(n_points)\n",
      "z_1 = zeros(n_points)\n",
      "z_2 = zeros(n_points)\n",
      "\n",
      "#Condiciones iniciales introducidas por el usario\n",
      "\n",
      "E_c=2*10**-12 #[MeV]\n",
      "alpha=30 #[\u00b0]\n",
      "\n",
      "#condiciones iniciales calculadas\n",
      "\n",
      "m_E=0.5109 #[MeV/c]\n",
      "v_0=sqrt(2*E_c/m_E)*3*10**8 #[m/s]\n",
      "\n",
      "v_0x=0 #[m/s]\n",
      "v_0y=v_0*np.sin(alpha*pi/180) #[m/s]\n",
      "v_0z=v_0*np.cos(alpha*pi/180) #[m/s]\n",
      "\n",
      "x_0=2 #[R_t]\n",
      "y_0=0 #[R_t]\n",
      "z_0=0 #[R_t]\n",
      "\n",
      "\n",
      "\n",
      "print w_0,v_0"
     ],
     "language": "python",
     "metadata": {},
     "outputs": [
      {
       "output_type": "stream",
       "stream": "stdout",
       "text": [
        "0.0 839.427705391\n"
       ]
      }
     ],
     "prompt_number": 58
    },
    {
     "cell_type": "code",
     "collapsed": false,
     "input": [
      "#definiendo las funciones a solucinar\n",
      "\n",
      "def x_prime_1(t,x_1,x_2,y_1, y_2,z_1,z_2):\n",
      "    return x_2\n",
      "\n",
      "def x_prime_2(t,x_1,x_2,y_1, y_2,z_1,z_2):\n",
      "    return w_0*((y_2*((2*z_1**2)-(x_1**2)-(y_1**2)))-(3*z_2*y_1*z_1))/(x_1**+y_1**2+z_1**2)**2.5\n",
      "\n",
      "def y_prime_1(t,x_1,x_2,y_1, y_2,z_1,z_2):\n",
      "    return y_2\n",
      "\n",
      "def y_prime_2(t,x_1,x_2,y_1, y_2,z_1,z_2):\n",
      "    return w_0*((3*x_1*z_1*z_2)-(x_2*((2*z_1**2)-(x_1**2)-(y_1**2))))/(x_1**+y_1**2+z_1**2)**2.5\n",
      "\n",
      "def z_prime_1(t,x_1,x_2,y_1, y_2,z_1,z_2):\n",
      "    return z_2\n",
      "\n",
      "def z_prime_2(t,x_1,x_2,y_1, y_2,z_1,z_2):\n",
      "    return w_0*3*((y_1*z_1*x_2)-(x_1*z_1*y_2))/(x_1**+y_1**2+z_1**2)**2.5\n"
     ],
     "language": "python",
     "metadata": {},
     "outputs": [],
     "prompt_number": 59
    },
    {
     "cell_type": "code",
     "collapsed": false,
     "input": [
      "#usando las condiciones iniciales\n",
      "t[0] = min_t\n",
      "\n",
      "x_1[0] = x_0\n",
      "x_2[0] = v_0x\n",
      "y_1[0] = y_0\n",
      "y_2[0] = v_0y\n",
      "z_1[0] = z_0\n",
      "z_2[0] = v_0z\n",
      "\n",
      "\n",
      "#generando el primer paso\n",
      "t[1] = min_t + h\n",
      "x_1[1] = y_1[0] + h*x_prime_1(t[0],x_1[0],x_2[0],y_1[0],y_2[0],z_1[0],z_2[0])\n",
      "x_2[1] = y_2[0] + h*x_prime_2(t[0],x_1[0],x_2[0],y_1[0],y_2[0],z_1[0],z_2[0])\n",
      "y_1[1] = y_1[0] + h*y_prime_1(t[0],x_1[0],x_2[0],y_1[0],y_2[0],z_1[0],z_2[0])\n",
      "y_2[1] = y_2[0] + h*y_prime_2(t[0],x_1[0],x_2[0],y_1[0],y_2[0],z_1[0],z_2[0])\n",
      "z_1[1] = z_1[0] + h*z_prime_1(t[0],x_1[0],x_2[0],y_1[0],y_2[0],z_1[0],z_2[0])\n",
      "z_2[1] = z_2[0] + h*z_prime_2(t[0],x_1[0],x_2[0],y_1[0],y_2[0],z_1[0],z_2[0])\n"
     ],
     "language": "python",
     "metadata": {},
     "outputs": [],
     "prompt_number": 60
    },
    {
     "cell_type": "code",
     "collapsed": false,
     "input": [
      "for i in range(2,n_points):\n",
      "    \n",
      "    t[i] = t[i-1] + h\n",
      "    x_1[i] = x_1[i-2] + 2 * h *x_prime_1(t[i-1],x_1[i-1],x_2[i-1],y_1[i-1],y_2[i-1],z_1[i-1],z_2[i-1])\n",
      "    x_2[i] = y_2[i-2] + 2 * h *x_prime_2(t[i-1],x_1[i-1],x_2[i-1],y_1[i-1],y_2[i-1],z_1[i-1],z_2[i-1])\n",
      "    y_1[i] = y_1[i-2] + 2 * h *y_prime_1(t[i-1],x_1[i-1],x_2[i-1],y_1[i-1],y_2[i-1],z_1[i-1],z_2[i-1])\n",
      "    y_2[i] = y_2[i-2] + 2 * h *y_prime_2(t[i-1],x_1[i-1],x_2[i-1],y_1[i-1],y_2[i-1],z_1[i-1],z_2[i-1])\n",
      "    z_1[i] = z_1[i-2] + 2 * h *z_prime_1(t[i-1],x_1[i-1],x_2[i-1],y_1[i-1],y_2[i-1],z_1[i-1],z_2[i-1])\n",
      "    z_2[i] = y_2[i-2] + 2 * h *z_prime_2(t[i-1],x_1[i-1],x_2[i-1],y_1[i-1],y_2[i-1],z_1[i-1],z_2[i-1])"
     ],
     "language": "python",
     "metadata": {},
     "outputs": [],
     "prompt_number": 61
    },
    {
     "cell_type": "code",
     "collapsed": false,
     "input": [
      "plot(t,x_1, 'ko')\n",
      "#plot(x,exp(-x))\n",
      "plt.xlabel('t')\n",
      "plt.ylabel('x(t)')\n"
     ],
     "language": "python",
     "metadata": {},
     "outputs": [
      {
       "metadata": {},
       "output_type": "pyout",
       "prompt_number": 62,
       "text": [
        "<matplotlib.text.Text at 0x7f617c8a30d0>"
       ]
      },
      {
       "metadata": {},
       "output_type": "display_data",
       "png": "[encoded data removed]",
       "text": [
        "<matplotlib.figure.Figure at 0x7f617c930550>"
       ]
      }
     ],
     "prompt_number": 62
    },
    {
     "cell_type": "code",
     "collapsed": false,
     "input": [],
     "language": "python",
     "metadata": {},
     "outputs": [],
     "prompt_number": 13
    },
    {
     "cell_type": "code",
     "collapsed": false,
     "input": [],
     "language": "python",
     "metadata": {},
     "outputs": []
    }
   ],
   "metadata": {}
  }
 ]
}