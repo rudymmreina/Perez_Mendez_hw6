{
 "metadata": {
  "name": ""
 },
 "nbformat": 3,
 "nbformat_minor": 0,
 "worksheets": [
  {
   "cells": [
    {
     "cell_type": "code",
     "collapsed": false,
     "input": [
      "%pylab inline\n",
      "import matplotlib.pyplot as plt\n",
      "import numpy as np\n",
      "from numpy import pi"
     ],
     "language": "python",
     "metadata": {},
     "outputs": [
      {
       "output_type": "stream",
       "stream": "stdout",
       "text": [
        "Populating the interactive namespace from numpy and matplotlib\n"
       ]
      }
     ],
     "prompt_number": 22
    },
    {
     "cell_type": "code",
     "collapsed": false,
     "input": [
      "#se define el intervalo de integraci\u00f3n y los puntos\n",
      "h=0.01\n",
      "min_t = 0.0\n",
      "max_t = 100.0\n",
      "n_points = int((max_t-min_t)/h)\n",
      "\n",
      "#se define las constantes\n",
      "q_e=1.6*10**-19 #[c]\n",
      "B=3*10**-5      #[T]\n",
      "m_e=9.1*10**-31 #[Kg]\n",
      "\n",
      "w_0=-q_e*B/m_e #[1/s]\n",
      "\n",
      "\n",
      "#inicializando las matrices\n",
      "\n",
      "\n",
      "t = zeros(n_points)\n",
      "x_1 = zeros(n_points)\n",
      "x_2 = zeros(n_points)\n",
      "y_1 = zeros(n_points)\n",
      "y_2 = zeros(n_points)\n",
      "z_1 = zeros(n_points)\n",
      "z_2 = zeros(n_points)\n",
      "\n",
      "#Condiciones iniciales introducidas por el usario\n",
      "\n",
      "E_c=0.25   #[MeV]\n",
      "alpha=30 #[\u00b0]\n",
      "\n",
      "#condiciones iniciales calculadas\n",
      "\n",
      "m_E=0.5109 #[MeV/c**2]\n",
      "v_0=sqrt(1-(1/((E_c/m_E)+1)**2)) #[c]\n",
      "#\n",
      "v_0x=0 #[c]\n",
      "v_0y=v_0*np.sin(alpha*pi/180) #[c]\n",
      "v_0z=v_0*np.cos(alpha*pi/180) #[c]\n",
      "\n",
      "x_0=2 #[R_t]\n",
      "y_0=0 #[R_t]\n",
      "z_0=0 #[R_t]\n",
      "\n",
      "\n",
      "print v_0,w_0\n"
     ],
     "language": "python",
     "metadata": {},
     "outputs": [
      {
       "output_type": "stream",
       "stream": "stdout",
       "text": [
        "0.74105736959 -5274725.27473\n"
       ]
      }
     ],
     "prompt_number": 24
    },
    {
     "cell_type": "code",
     "collapsed": false,
     "input": [
      "#definiendo las funciones a solucinar\n",
      "\n",
      "def funcx_prime_1(t,x_1,x_2,y_1, y_2,z_1,z_2):\n",
      "    return x_2\n",
      "\n",
      "def funcx_prime_2(t,x_1,x_2,y_1, y_2,z_1,z_2):\n",
      "    return w_0*((y_2*((2*z_1**2)-(x_1**2)-(y_1**2)))-(3*z_2*y_1*z_1))*sqrt(1-(x_2**2+y_2**2+z_2**2))/(x_1**+y_1**2+z_1**2)**2.5\n",
      "\n",
      "def funcy_prime_1(t,x_1,x_2,y_1, y_2,z_1,z_2):\n",
      "    return y_2\n",
      "\n",
      "def funcy_prime_2(t,x_1,x_2,y_1, y_2,z_1,z_2):\n",
      "    return w_0*((3*x_1*z_1*z_2)-(x_2*((2*z_1**2)-(x_1**2)-(y_1**2))))*sqrt(1-(x_2**2+y_2**2+z_2**2))/(x_1**+y_1**2+z_1**2)**2.5\n",
      "\n",
      "def funcz_prime_1(t,x_1,x_2,y_1, y_2,z_1,z_2):\n",
      "    return z_2\n",
      "\n",
      "def funcz_prime_2(t,x_1,x_2,y_1, y_2,z_1,z_2):\n",
      "    return w_0*3*((y_1*z_1*x_2)-(x_1*z_1*y_2))*sqrt(1-(x_2**2+y_2**2+z_2**2))/(x_1**+y_1**2+z_1**2)**2.5\n"
     ],
     "language": "python",
     "metadata": {},
     "outputs": [],
     "prompt_number": 25
    },
    {
     "cell_type": "code",
     "collapsed": false,
     "input": [
      "def RungeKuttaSecondOrderStep(t_old,x_1_old,x_2_old,y_1_old, y_2_old,z_1_old,z_2_old):\n",
      "    #get the first derivatives\n",
      "    x_prime_1 = funcx_prime_1(t_old,x_1_old,x_2_old,y_1_old, y_2_old,z_1_old,z_2_old)\n",
      "    x_prime_2 = funcx_prime_2(t_old,x_1_old,x_2_old,y_1_old, y_2_old,z_1_old,z_2_old)\n",
      "    y_prime_1 = funcy_prime_1(t_old,x_1_old,x_2_old,y_1_old, y_2_old,z_1_old,z_2_old)\n",
      "    y_prime_2 = funcy_prime_2(t_old,x_1_old,x_2_old,y_1_old, y_2_old,z_1_old,z_2_old)\n",
      "    z_prime_1 = funcz_prime_1(t_old,x_1_old,x_2_old,y_1_old, y_2_old,z_1_old,z_2_old)\n",
      "    z_prime_2 = funcz_prime_2(t_old,x_1_old,x_2_old,y_1_old, y_2_old,z_1_old,z_2_old)\n",
      "    \n",
      "    #from this estimation move to the middle point\n",
      "    t_middle = t_old+ (h/2.0)\n",
      "    x_1_middle = y_1_old + (h/2.0) * x_prime_1\n",
      "    x_2_middle = y_2_old + (h/2.0) * x_prime_2\n",
      "    y_1_middle = y_1_old + (h/2.0) * y_prime_1\n",
      "    y_2_middle = y_2_old + (h/2.0) * y_prime_2\n",
      "    z_1_middle = y_1_old + (h/2.0) * z_prime_1\n",
      "    z_2_middle = y_2_old + (h/2.0) * z_prime_2 \n",
      "    \n",
      "    #compute the derivatives at the middle point\n",
      "    x_middle_prime_1 = funcx_prime_1(t_middle,x_1_middle,x_2_middle,y_1_middle, y_2_middle,z_1_middle,z_2_middle)\n",
      "    x_middle_prime_2 = funcx_prime_2(t_middle,x_1_middle,x_2_middle,y_1_middle, y_2_middle,z_1_middle,z_2_middle)\n",
      "    y_middle_prime_1 = funcy_prime_1(t_middle,x_1_middle,x_2_middle,y_1_middle, y_2_middle,z_1_middle,z_2_middle)\n",
      "    y_middle_prime_2 = funcy_prime_2(t_middle,x_1_middle,x_2_middle,y_1_middle, y_2_middle,z_1_middle,z_2_middle)\n",
      "    z_middle_prime_1 = funcz_prime_1(t_middle,x_1_middle,x_2_middle,y_1_middle, y_2_middle,z_1_middle,z_2_middle)\n",
      "    z_middle_prime_2 = funcz_prime_2(t_middle,x_1_middle,x_2_middle,y_1_middle, y_2_middle,z_1_middle,z_2_middle)\n",
      "    \n",
      "    t_new = t_old + h\n",
      "    x_1_new = y_1_old + h * x_middle_prime_1 \n",
      "    x_2_new= y_2_old + h * x_middle_prime_2\n",
      "    y_1_new = y_1_old + h * y_middle_prime_1 \n",
      "    y_2_new= y_2_old + h * y_middle_prime_2\n",
      "    z_1_new = y_1_old + h * z_middle_prime_1 \n",
      "    z_2_new= y_2_old + h * z_middle_prime_2\n",
      "    return t_new, x_1_new, x_2_new,y_1_new, y_2_new,z_1_new, z_2_new\n"
     ],
     "language": "python",
     "metadata": {},
     "outputs": [],
     "prompt_number": 26
    },
    {
     "cell_type": "code",
     "collapsed": false,
     "input": [
      "#usando las condiciones iniciales\n",
      "t[0] = min_t\n",
      "\n",
      "x_1[0] = x_0\n",
      "x_2[0] = v_0x\n",
      "y_1[0] = y_0\n",
      "y_2[0] = v_0y\n",
      "z_1[0] = z_0\n",
      "z_2[0] = v_0z\n",
      "\n",
      "\n",
      "\n",
      "for i in range(1,n_points):\n",
      "    t[i],x_1[i],x_2[i],y_1[i],y_2[i],z_1[i],z_2[i] = RungeKuttaSecondOrderStep(t[i-1], x_1[i-1], x_2[i-1], y_1[i-1], y_2[i-1], z_1[i-1], z_2[i-1])"
     ],
     "language": "python",
     "metadata": {},
     "outputs": [],
     "prompt_number": 27
    },
    {
     "cell_type": "code",
     "collapsed": false,
     "input": [
      "plot(t,y_1, 'ko')\n",
      "#plot(x,exp(-x))\n",
      "plt.xlabel('t')\n",
      "plt.ylabel('x(t)')\n"
     ],
     "language": "python",
     "metadata": {},
     "outputs": [
      {
       "metadata": {},
       "output_type": "pyout",
       "prompt_number": 28,
       "text": [
        "<matplotlib.text.Text at 0x7f9fdcfb9050>"
       ]
      },
      {
       "metadata": {},
       "output_type": "display_data",
       "png": "[encoded data removed]",
       "text": [
        "<matplotlib.figure.Figure at 0x7f9fdd3f8c50>"
       ]
      }
     ],
     "prompt_number": 28
    },
    {
     "cell_type": "code",
     "collapsed": false,
     "input": [
      "print x_1[2]"
     ],
     "language": "python",
     "metadata": {},
     "outputs": [
      {
       "output_type": "stream",
       "stream": "stdout",
       "text": [
        "nan\n"
       ]
      }
     ],
     "prompt_number": 29
    },
    {
     "cell_type": "code",
     "collapsed": false,
     "input": [],
     "language": "python",
     "metadata": {},
     "outputs": [],
     "prompt_number": 29
    },
    {
     "cell_type": "code",
     "collapsed": false,
     "input": [],
     "language": "python",
     "metadata": {},
     "outputs": []
    }
   ],
   "metadata": {}
  }
 ]
}